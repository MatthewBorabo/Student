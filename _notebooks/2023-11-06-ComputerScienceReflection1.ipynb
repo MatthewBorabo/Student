{
 "cells": [
  {
   "cell_type": "markdown",
   "metadata": {},
   "source": [
    "---\n",
    "comments: True\n",
    "layout: post\n",
    "title: Computer Science Reflection\n",
    "description: Reflecting on the Project - Code Climbers.\n",
    "type: tangibles\n",
    "courses: {'compsci': {'week': 12}}\n",
    "---"
   ]
  },
  {
   "cell_type": "markdown",
   "metadata": {},
   "source": [
    "# Documenting my Project: CodeClimbers\n",
    "\n",
    "- As this was my first Computer Science course ever, . . . "
   ]
  },
  {
   "cell_type": "markdown",
   "metadata": {},
   "source": [
    "# Rubric:\n",
    "\n",
    "- Code in blog.  JavaScript is primary focus to check for this review, particularly how you have learned JavaScript and Game programming.   Links, notes, videos watched, ChatGPT session are valuable elements to maintain in personal blog.\n",
    "\n",
    "- Usage of blog.  Teacher should be convinced that you are using your Blog as Study Guide for this course and future trimesters.   Classes change and project knowledge should be capture in you own repository.   After each class, or in future discussion on learning in code you will need to show your own projects, history, and analytics.\n",
    "\n",
    "- Trimester 1 reflection.   Memories and learnings from trimester 1.   Reflective summary of things you learned, positive accomplishments,    Reflective summary of things you intend to learn in trimester 2 that you did not get to, opportunities for growth.\n",
    " "
   ]
  }
 ],
 "metadata": {
  "language_info": {
   "name": "python"
  },
  "orig_nbformat": 4
 },
 "nbformat": 4,
 "nbformat_minor": 2
}
