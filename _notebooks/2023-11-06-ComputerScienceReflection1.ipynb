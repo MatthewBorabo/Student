{
 "cells": [
  {
   "cell_type": "markdown",
   "metadata": {},
   "source": [
    "---\n",
    "comments: True\n",
    "layout: post\n",
    "title: Computer Science Reflection\n",
    "description: Reflecting on the Project - Code Climbers.\n",
    "type: tangibles\n",
    "courses: {'compsci': {'week': 12}}\n",
    "---"
   ]
  },
  {
   "cell_type": "code",
   "execution_count": null,
   "metadata": {
    "vscode": {
     "languageId": "html"
    }
   },
   "outputs": [],
   "source": []
  },
  {
   "cell_type": "markdown",
   "metadata": {},
   "source": [
    "## Documenting my Journey\n",
    "\n",
    "- As this was my first Computer Science course ever, the journey is definitely very rough. I experienced a lot of difficulties during the first few weeks such as running the terminal commands, understanding how they work, and overall implementing/making all the code.\n",
    "\n",
    "## Project: My Time Working at CodeClimbers\n",
    "\n",
    "- This project is very important, as it is worth half of my grade and took over half of my class time. I learned how to cooperate with my three teammates (Ian, Gavin, and John) in order to produce a good quality performing game! I'll be honest though, Gavin is the most hard-working out of all of us, he's able to work on the code diligently and acted as a leader. I, on the other hand, didn't know where to start half of the time and mostly worked on other stuff unrelated to coding (e.g. finding sprites, html/markdown). Looking back, I wish I could experiment more with OOP (Object-Oriented Programming) so I can understand how the code works rather than only doing it a couple of times. However, I was able to modify many objects, I just haven't done them completely by myself, but I guess that's what a team is for. Code-wise, I was able to stop the player from double-jumping (though it has some delay when free falling) and made an entire menu (which is really nice, but it is made out of html, which I don't think is considered code). Besides my \"code\" work, I was able to make some quality reflection and plans such as this one, which is nice. I found a sprite, but it is not being used. For this class, I seemed to be on the artistic side (even though I'm not much of an artist) for the project overall. I honestly wish I could work on this project so that it won't seem like I'm dragging. I'm not sure if I will be able to make it to Night at the Museum (where we showcase our work). If I could go back in time with my new-found knowledge, I could work on the code components more, but I have to think about it now. I wrapped up all of my findings, and I am going to take all of my knowledge for next trimester."
   ]
  },
  {
   "cell_type": "markdown",
   "metadata": {},
   "source": [
    "# Code Examples (References):\n",
    "\n",
    "- Making the Main Menu\n",
    "- Fixing Double Jump on the OOP for the Player"
   ]
  },
  {
   "cell_type": "markdown",
   "metadata": {},
   "source": [
    "# Extra Credit:\n",
    "\n",
    "# “The MOVE” (P4: CSSE):\n",
    "- Hook: 4.0/4.0\n",
    "- Explanation: There is a title screen, which has great detail upon playing the game. There is an eerie mood once I start playing the game. For a first impression, this game is very impressive and has a lot of potential.\n",
    "\n",
    "- Knowledge: 4.1/4.0\n",
    "- Explanation: I was able to see the code, and there are nearly thousands of lines! It was used for various objects (I.e. player, boxes, door). It is very impressive and it was executed very well with little to no bugs.\n",
    "\n",
    "- Value: 1.0/1.0\n",
    "- Explanation: The game is a horror game, and it conveys the tone very well.\n",
    "\n",
    "- WOW Factor: +1 Point\n",
    "\n",
    "- Extra Note: I am truly astonished by the quality of the game. If I played this game blind and had to guess which class it was from, I would think that it’s from CSA. Bravo to everyone who worked on this game!\n",
    "\n",
    "- TOTAL: 10.1/10.0\n",
    "\n",
    "\n",
    "The MOVE: https://trystan-schmits.github.io/Group//c4.1/2023/10/25/Game.html\n",
    "\n",
    "# Universium (P4: CSSE):\n",
    "\n",
    "- Hook: 3.9/4.0\n",
    "- Explanation: I really like the music that is playing as well as the animation of the characters and the background.\n",
    "\n",
    "- Knowledge: 3.75/4.0\n",
    "- Explanation: The game shows excellent use of code and object orienting programming but I think there could be more added (etc. the enemy gets faster over time so that the game doesn't go on forever)\n",
    "\n",
    "- Value: 0.95/1.0\n",
    "- Explanation: Same thing as knowledge, there could be more added, but I think everything that is on the game is excellent on its own.\n",
    "\n",
    "- WOW Factor: Endless Mode (+0.8 points)\n",
    "\n",
    "- Total: 9.4/10\n",
    "\n",
    "Universium: https://justinq-dnhs.github.io/Game/\n",
    "\n",
    "# Astronomer (P3: CSA):\n",
    "\n",
    "- Hook: 3.6/4.0\n",
    "- Explanation: The website itself is relatively fine, but I didn't feel immediately drawed in to explore the website. I think there could be a bigger animation or more appealing text to make this hook more enhanced.\n",
    "\n",
    "- Knowledge: 3.9/4.0\n",
    "- Explanation: I really love the design of how they incorporated AI to the website and how each planet has a ton of information\n",
    "\n",
    "- Value: 0.98/1.00\n",
    "- This website is shown to have a lot of knowledge and has a lot of code fundamentals that make the website very appealing. Once I started to explore the website, it just got better.\n",
    "\n",
    "- WOW Factor: Incorporating AI with search results.\n",
    "\n",
    "- TOTAL: 9.48/10.00\n",
    "\n",
    "Astronomer: https://paaraspurohit.github.io/team-premium-frontend/\n"
   ]
  },
  {
   "cell_type": "markdown",
   "metadata": {},
   "source": [
    "# Rubric:\n",
    "\n",
    "- Code in blog.  JavaScript is primary focus to check for this review, particularly how you have learned JavaScript and Game programming.   Links, notes, videos watched, ChatGPT session are valuable elements to maintain in personal blog.\n",
    "\n",
    "- Usage of blog.  Teacher should be convinced that you are using your Blog as Study Guide for this course and future trimesters.   Classes change and project knowledge should be capture in you own repository.   After each class, or in future discussion on learning in code you will need to show your own projects, history, and analytics.\n",
    "\n",
    "- Trimester 1 reflection.   Memories and learnings from trimester 1.   Reflective summary of things you learned, positive accomplishments,    Reflective summary of things you intend to learn in trimester 2 that you did not get to, opportunities for growth.\n",
    " "
   ]
  }
 ],
 "metadata": {
  "language_info": {
   "name": "python"
  },
  "orig_nbformat": 4
 },
 "nbformat": 4,
 "nbformat_minor": 2
}
