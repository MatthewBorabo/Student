{
 "cells": [
  {
   "cell_type": "markdown",
   "metadata": {},
   "source": [
    "---\n",
    "comments: true\n",
    "layout: post\n",
    "title: Jupyter Notebook Introduction\n",
    "description: Discovering the features of Jupyter Notebook! :o\n",
    "type: tangibles\n",
    "courses: { compsci: {week: 2} }\n",
    "---"
   ]
  },
  {
   "cell_type": "raw",
   "metadata": {},
   "source": [
    "This is my lab notebook :D\n",
    "\n",
    "Here are the three main terminal commands:\n",
    "- The command \"ls\" makes a list\n",
    "- The command \"cd\" changes the directory\n",
    "- The command \"make\" makes a local server to test coding changes in real-time (without having to publish the website).\n"
   ]
  }
 ],
 "metadata": {
  "language_info": {
   "name": "python"
  },
  "orig_nbformat": 4
 },
 "nbformat": 4,
 "nbformat_minor": 2
}
